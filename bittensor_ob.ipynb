{
 "cells": [
  {
   "attachments": {},
   "cell_type": "markdown",
   "metadata": {},
   "source": [
    "Pulls in the buy and sell orders from bittensor.exchange and creates a market depth chart from it."
   ]
  },
  {
   "cell_type": "code",
   "execution_count": 23,
   "metadata": {},
   "outputs": [
    {
     "name": "stdout",
     "output_type": "stream",
     "text": [
      "200\n"
     ]
    }
   ],
   "source": [
    "import requests\n",
    "from bs4 import BeautifulSoup\n",
    "import sys\n",
    "import pickle\n",
    "\n",
    "url = \"https://bittensor.exchange/\"\n",
    "r = requests.get(url)\n",
    "print(r.status_code)\n",
    "soup = BeautifulSoup(r.content, \"html.parser\")\n",
    "\n",
    "table_divs = soup.find_all(\"div\", class_=\"col\")\n",
    "\n",
    "orders = []\n",
    "for table_div in table_divs:\n",
    "    # Find the table in the div\n",
    "    order_table = table_div.find('table')\n",
    "\n",
    "    column_names = []\n",
    "    for th in order_table.thead.tr.find_all('th'):\n",
    "        column_names.append(th.text)\n",
    "    \n",
    "    for tr in order_table.tbody.find_all('tr'):\n",
    "        row_data = {}\n",
    "        for i, td in enumerate(tr.find_all('td')):\n",
    "            if \"Buy\" in td.text: \n",
    "                # They have a Buy button on sell orders\n",
    "                row_data[column_names[i]] = \"sell\"\n",
    "            elif \"Sell\" in td.text:\n",
    "                row_data[column_names[i]] = \"buy\"\n",
    "            else:\n",
    "                row_data[column_names[i]] = td.text\n",
    "\n",
    "        orders.append(row_data)\n",
    "\n",
    "# Because I didn't want to keep requesting the page\n",
    "with open(\"orders.pkl\", \"wb\") as f:\n",
    "    pickle.dump(orders, f)\n"
   ]
  },
  {
   "cell_type": "code",
   "execution_count": 45,
   "metadata": {},
   "outputs": [
    {
     "name": "stdout",
     "output_type": "stream",
     "text": [
      "{'Price': '37.00 $/Tao', 'Volume': 'τ 166.00', 'Total': '\\n$ 6,142.00\\n', '': 'buy'}\n",
      "   Price (USD)  Volume (TAO)  Volume (USD) Type\n",
      "0         37.0         166.0        6142.0  buy\n",
      "1         37.9          50.0        1895.0  buy\n",
      "2         38.0         500.0       19000.0  buy\n",
      "3         38.0         130.0        4940.0  buy\n",
      "4         38.4          25.0         960.0  buy\n",
      "     Price (USD)  Volume (TAO)  Volume (USD)  Type\n",
      "108         12.0         20.45        245.36  sell\n",
      "109         11.0         10.10        111.15  sell\n",
      "110         10.5         10.24        107.49  sell\n",
      "111         10.0         10.07        100.71  sell\n",
      "112          6.0        100.42        602.52  sell\n"
     ]
    }
   ],
   "source": [
    "import pickle\n",
    "import pandas as pd\n",
    "\n",
    "with open(\"orders.pkl\", \"rb\") as f:\n",
    "    orders = pickle.load(f)\n",
    "\n",
    "print(orders[0])\n",
    "\n",
    "# Convert orders into a dataframe\n",
    "df = pd.DataFrame(orders)\n",
    "\n",
    "df = df.rename(columns={\"Total\": \"Volume (USD)\", \"Volume\": \"Volume (TAO)\", \"Price\": \"Price (USD)\", \"\": \"Type\"})\n",
    "\n",
    "df['Volume (USD)'] = df['Volume (USD)'].replace(\n",
    "    {'\\\\n': '', '\\$': '', ',': ''}, regex=True).str.strip()\n",
    "df['Volume (USD)'] = pd.to_numeric(df['Volume (USD)'])\n",
    "\n",
    "df['Volume (TAO)'] = df['Volume (TAO)'].replace(\n",
    "    {'τ': '', ',': ''}, regex=True).str.strip()\n",
    "df['Volume (TAO)'] = pd.to_numeric(df['Volume (TAO)'])\n",
    "\n",
    "df['Price (USD)'] = df['Price (USD)'].replace(\n",
    "    {r'\\/Tao': '', '\\$': '', ',': ''}, regex=True).str.strip()\n",
    "# df['Price (USD)'] = pd.to_numeric(df['Price (USD)'])\n",
    "df['Price (USD)'] = df['Price (USD)'].astype('float')\n",
    "\n",
    "print(df.head())\n",
    "print(df.tail())\n",
    "\n"
   ]
  },
  {
   "cell_type": "code",
   "execution_count": 50,
   "metadata": {},
   "outputs": [
    {
     "data": {
      "image/png": "[encoded data removed]",
      "text/plain": [
       "<Figure size 640x480 with 1 Axes>"
      ]
     },
     "metadata": {},
     "output_type": "display_data"
    }
   ],
   "source": [
    "import matplotlib\n",
    "import matplotlib.pyplot as plt\n",
    "import seaborn as sns\n",
    "\n",
    "# Create the market depth chart\n",
    "fig, ax = plt.subplots()\n",
    "sns.ecdfplot(x=\"Price (USD)\", weights=\"Volume (TAO)\", stat=\"count\",\n",
    "             complementary=True, data=df.query(\"Type == 'sell'\"),\n",
    "             color=\"green\", ax=ax)\n",
    "sns.ecdfplot(x=\"Price (USD)\", weights=\"Volume (TAO)\", stat=\"count\", \n",
    "             data=df.query(\"Type == 'buy'\"), color=\"red\",\n",
    "             ax=ax)\n",
    "ax.set_xlabel(\"Price\")\n",
    "ax.set_ylabel(\"Quantity\")\n",
    "\n",
    "plt.show()\n",
    "\n",
    "\n"
   ]
  }
 ],
 "metadata": {
  "kernelspec": {
   "display_name": "venv",
   "language": "python",
   "name": "python3"
  },
  "language_info": {
   "codemirror_mode": {
    "name": "ipython",
    "version": 3
   },
   "file_extension": ".py",
   "mimetype": "text/x-python",
   "name": "python",
   "nbconvert_exporter": "python",
   "pygments_lexer": "ipython3",
   "version": "3.11.1"
  },
  "orig_nbformat": 4,
  "vscode": {
   "interpreter": {
    "hash": "c3f5b47a472ce16a21627f6365304f4b1b6de64e00f59a66e9cbcd3daeed608a"
   }
  }
 },
 "nbformat": 4,
 "nbformat_minor": 2
}
